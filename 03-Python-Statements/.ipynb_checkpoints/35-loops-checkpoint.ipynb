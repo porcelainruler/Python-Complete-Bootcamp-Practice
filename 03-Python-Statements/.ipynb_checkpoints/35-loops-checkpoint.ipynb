{
 "cells": [
  {
   "cell_type": "code",
   "execution_count": 1,
   "metadata": {},
   "outputs": [],
   "source": [
    "mylist = [1, 2, 3, 4, 5, 6, 7, 8, 9, 10]"
   ]
  },
  {
   "cell_type": "code",
   "execution_count": 2,
   "metadata": {},
   "outputs": [
    {
     "name": "stdout",
     "output_type": "stream",
     "text": [
      "1\n",
      "2\n",
      "3\n",
      "4\n",
      "5\n",
      "6\n",
      "7\n",
      "8\n",
      "9\n",
      "10\n"
     ]
    }
   ],
   "source": [
    "for item in mylist:\n",
    "    print(item)"
   ]
  },
  {
   "cell_type": "code",
   "execution_count": 5,
   "metadata": {},
   "outputs": [
    {
     "name": "stdout",
     "output_type": "stream",
     "text": [
      "Odd number 1\n",
      "Even number 2\n",
      "Odd number 3\n",
      "Even number 4\n",
      "Odd number 5\n",
      "Even number 6\n",
      "Odd number 7\n",
      "Even number 8\n",
      "Odd number 9\n",
      "Even number 10\n"
     ]
    }
   ],
   "source": [
    "for item in mylist:\n",
    "    #Check even\n",
    "    if item % 2 == 0:\n",
    "        print(f'Even number {item}')\n",
    "    else:\n",
    "        print(f'Odd number {item}')"
   ]
  },
  {
   "cell_type": "code",
   "execution_count": 6,
   "metadata": {},
   "outputs": [
    {
     "name": "stdout",
     "output_type": "stream",
     "text": [
      "55\n"
     ]
    }
   ],
   "source": [
    "lsum = 0\n",
    "\n",
    "for item in mylist:\n",
    "    lsum += item\n",
    "    \n",
    "print(lsum)"
   ]
  },
  {
   "cell_type": "code",
   "execution_count": 8,
   "metadata": {},
   "outputs": [
    {
     "name": "stdout",
     "output_type": "stream",
     "text": [
      "Not Using list members\n",
      "Not Using list members\n",
      "Not Using list members\n",
      "Not Using list members\n",
      "Not Using list members\n",
      "Not Using list members\n",
      "Not Using list members\n",
      "Not Using list members\n",
      "Not Using list members\n",
      "Not Using list members\n"
     ]
    }
   ],
   "source": [
    "# When don't want to use list item just iteraye as many time as list length\n",
    "\n",
    "for _ in mylist:\n",
    "    print('Not Using list members')"
   ]
  },
  {
   "cell_type": "code",
   "execution_count": 10,
   "metadata": {},
   "outputs": [],
   "source": [
    "# Anothet Form for tuples\n",
    "\n",
    "mytuplist = [(1, 2), (3, 4), (5, 6), (7, 8)]"
   ]
  },
  {
   "cell_type": "code",
   "execution_count": 11,
   "metadata": {},
   "outputs": [
    {
     "name": "stdout",
     "output_type": "stream",
     "text": [
      "(1, 2)\n",
      "(3, 4)\n",
      "(5, 6)\n",
      "(7, 8)\n"
     ]
    }
   ],
   "source": [
    "for items in mytuplist:\n",
    "    print(items)"
   ]
  },
  {
   "cell_type": "code",
   "execution_count": 15,
   "metadata": {},
   "outputs": [
    {
     "name": "stdout",
     "output_type": "stream",
     "text": [
      "First Tuple Element is 1 and Second Tuple is 2\n",
      "First Tuple Element is 3 and Second Tuple is 4\n",
      "First Tuple Element is 5 and Second Tuple is 6\n",
      "First Tuple Element is 7 and Second Tuple is 8\n"
     ]
    }
   ],
   "source": [
    "# Tuple Unpacking\n",
    "\n",
    "for a, b in mytuplist:\n",
    "    print(f'First Tuple Element is {a} and Second Tuple is {b}')"
   ]
  },
  {
   "cell_type": "code",
   "execution_count": 18,
   "metadata": {},
   "outputs": [
    {
     "name": "stdout",
     "output_type": "stream",
     "text": [
      "k1\n",
      "k2\n",
      "k3\n",
      "('k1', 1)\n",
      "('k2', 2)\n",
      "('k3', 3)\n"
     ]
    }
   ],
   "source": [
    "d = {'k1': 1, 'k2': 2, 'k3': 3}\n",
    "\n",
    "for item in d:\n",
    "    print(item)\n",
    "    \n",
    "for item in d.items():\n",
    "    print(item)"
   ]
  },
  {
   "cell_type": "code",
   "execution_count": 20,
   "metadata": {},
   "outputs": [
    {
     "name": "stdout",
     "output_type": "stream",
     "text": [
      "k 1\n",
      "k 2\n",
      "k 3\n"
     ]
    }
   ],
   "source": [
    "for key, val in d:\n",
    "    print(key, val)"
   ]
  },
  {
   "cell_type": "code",
   "execution_count": 22,
   "metadata": {},
   "outputs": [
    {
     "name": "stdout",
     "output_type": "stream",
     "text": [
      "Current Value of x: 0\n",
      "Current Value of x: 1\n",
      "Current Value of x: 2\n",
      "Current Value of x: 3\n",
      "Current Value of x: 4\n",
      "Condition Become False\n"
     ]
    }
   ],
   "source": [
    "x = 0\n",
    "\n",
    "while x < 5:\n",
    "    print(f'Current Value of x: {x}')\n",
    "    x += 1\n",
    "else:\n",
    "    print('Condition Become False')"
   ]
  },
  {
   "cell_type": "code",
   "execution_count": 23,
   "metadata": {},
   "outputs": [],
   "source": [
    "# Break, Continue and Pass\n",
    "\n",
    "# break - Breaks out of closest enclosing loop\n",
    "# continue - Goes to next iteration or top of closest enclosing loop\n",
    "# pass - Dpes nothing at all"
   ]
  },
  {
   "cell_type": "code",
   "execution_count": 24,
   "metadata": {},
   "outputs": [
    {
     "ename": "SyntaxError",
     "evalue": "unexpected EOF while parsing (<ipython-input-24-01129b9fea02>, line 2)",
     "output_type": "error",
     "traceback": [
      "\u001b[1;36m  File \u001b[1;32m\"<ipython-input-24-01129b9fea02>\"\u001b[1;36m, line \u001b[1;32m2\u001b[0m\n\u001b[1;33m    # comment\u001b[0m\n\u001b[1;37m             ^\u001b[0m\n\u001b[1;31mSyntaxError\u001b[0m\u001b[1;31m:\u001b[0m unexpected EOF while parsing\n"
     ]
    }
   ],
   "source": [
    "for item in [1, 2, 3]:\n",
    "    # comment"
   ]
  },
  {
   "cell_type": "code",
   "execution_count": 26,
   "metadata": {},
   "outputs": [
    {
     "name": "stdout",
     "output_type": "stream",
     "text": [
      "end of script\n"
     ]
    }
   ],
   "source": [
    "# Used commonly o avoid syntax error in case of empty loop ro be updated\n",
    "\n",
    "for item in [1, 2, 3]:\n",
    "    # comment\n",
    "    pass\n",
    "\n",
    "print('end of script')"
   ]
  },
  {
   "cell_type": "code",
   "execution_count": 27,
   "metadata": {},
   "outputs": [
    {
     "name": "stdout",
     "output_type": "stream",
     "text": [
      "S\n",
      "m\n",
      "m\n",
      "y\n",
      "end of script\n"
     ]
    }
   ],
   "source": [
    "for item in 'Sammy':\n",
    "    if item == 'a':\n",
    "        continue\n",
    "    print(item)\n",
    "\n",
    "print('end of script')"
   ]
  },
  {
   "cell_type": "code",
   "execution_count": 28,
   "metadata": {},
   "outputs": [
    {
     "name": "stdout",
     "output_type": "stream",
     "text": [
      "S\n"
     ]
    }
   ],
   "source": [
    "for item in 'Sammy':\n",
    "    if item == 'a':\n",
    "        break\n",
    "    print(item)"
   ]
  },
  {
   "cell_type": "code",
   "execution_count": null,
   "metadata": {},
   "outputs": [],
   "source": []
  }
 ],
 "metadata": {
  "kernelspec": {
   "display_name": "Python 3",
   "language": "python",
   "name": "python3"
  },
  "language_info": {
   "codemirror_mode": {
    "name": "ipython",
    "version": 3
   },
   "file_extension": ".py",
   "mimetype": "text/x-python",
   "name": "python",
   "nbconvert_exporter": "python",
   "pygments_lexer": "ipython3",
   "version": "3.7.7"
  }
 },
 "nbformat": 4,
 "nbformat_minor": 4
}
